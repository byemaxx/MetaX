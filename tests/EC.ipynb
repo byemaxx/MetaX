{
 "cells": [
  {
   "cell_type": "code",
   "execution_count": 1,
   "metadata": {},
   "outputs": [
    {
     "name": "stdout",
     "output_type": "stream",
     "text": [
      "mysqldump\n",
      "{}\n"
     ]
    }
   ],
   "source": [
    "import xml.etree.ElementTree as ET\n",
    "\n",
    "# 解析XML文件\n",
    "tree = ET.parse('enzyme-data.xml')\n",
    "root = tree.getroot()\n",
    "\n",
    "# 访问根元素及其属性\n",
    "print(root.tag)\n",
    "print(root.attrib)\n",
    "\n",
    "\n"
   ]
  },
  {
   "cell_type": "code",
   "execution_count": 2,
   "metadata": {},
   "outputs": [
    {
     "ename": "ModuleNotFoundError",
     "evalue": "No module named 'xmltodict'",
     "output_type": "error",
     "traceback": [
      "\u001b[1;31m---------------------------------------------------------------------------\u001b[0m",
      "\u001b[1;31mModuleNotFoundError\u001b[0m                       Traceback (most recent call last)",
      "Cell \u001b[1;32mIn[2], line 2\u001b[0m\n\u001b[0;32m      1\u001b[0m \u001b[39mimport\u001b[39;00m \u001b[39mxml\u001b[39;00m\u001b[39m.\u001b[39;00m\u001b[39metree\u001b[39;00m\u001b[39m.\u001b[39;00m\u001b[39mElementTree\u001b[39;00m \u001b[39mas\u001b[39;00m \u001b[39mET\u001b[39;00m\n\u001b[1;32m----> 2\u001b[0m \u001b[39mimport\u001b[39;00m \u001b[39mxmltodict\u001b[39;00m\n\u001b[0;32m      4\u001b[0m \u001b[39m# 解析XML文件\u001b[39;00m\n\u001b[0;32m      5\u001b[0m tree \u001b[39m=\u001b[39m ET\u001b[39m.\u001b[39mparse(\u001b[39m'\u001b[39m\u001b[39menzyme-data.xml\u001b[39m\u001b[39m'\u001b[39m)\n",
      "\u001b[1;31mModuleNotFoundError\u001b[0m: No module named 'xmltodict'"
     ]
    }
   ],
   "source": [
    "import xml.etree.ElementTree as ET\n",
    "import xmltodict\n",
    "\n",
    "# 解析XML文件\n",
    "tree = ET.parse('enzyme-data.xml')\n",
    "root = tree.getroot()\n",
    "\n",
    "# 将XML数据转换为字典对象\n",
    "xml_string = ET.tostring(root, encoding='utf8', method='xml')\n",
    "data_dict = xmltodict.parse(xml_string)\n",
    "\n",
    "# 访问字典对象及其键值对\n",
    "print(data_dict['enzymes'])\n",
    "print(data_dict['enzymes']['enzyme'][0]['common-name'])\n"
   ]
  },
  {
   "cell_type": "code",
   "execution_count": 1,
   "metadata": {},
   "outputs": [
    {
     "ename": "DatabaseError",
     "evalue": "file is not a database",
     "output_type": "error",
     "traceback": [
      "\u001b[1;31m---------------------------------------------------------------------------\u001b[0m",
      "\u001b[1;31mDatabaseError\u001b[0m                             Traceback (most recent call last)",
      "Cell \u001b[1;32mIn[1], line 10\u001b[0m\n\u001b[0;32m      7\u001b[0m cur \u001b[39m=\u001b[39m conn\u001b[39m.\u001b[39mcursor()\n\u001b[0;32m      9\u001b[0m \u001b[39m# 执行SQL查询语句\u001b[39;00m\n\u001b[1;32m---> 10\u001b[0m cur\u001b[39m.\u001b[39;49mexecute(\u001b[39m'\u001b[39;49m\u001b[39mSELECT * FROM enzyme\u001b[39;49m\u001b[39m'\u001b[39;49m)\n\u001b[0;32m     12\u001b[0m \u001b[39m# 遍历查询结果\u001b[39;00m\n\u001b[0;32m     13\u001b[0m \u001b[39mfor\u001b[39;00m row \u001b[39min\u001b[39;00m cur\u001b[39m.\u001b[39mfetchall():\n",
      "\u001b[1;31mDatabaseError\u001b[0m: file is not a database"
     ]
    }
   ],
   "source": [
    "import sqlite3\n",
    "\n",
    "# 连接到数据库文件\n",
    "conn = sqlite3.connect('enzyme-data.sql')\n",
    "\n",
    "# 创建游标对象\n",
    "cur = conn.cursor()\n",
    "\n",
    "# 执行SQL查询语句\n",
    "cur.execute('SELECT * FROM enzyme')\n",
    "\n",
    "# 遍历查询结果\n",
    "for row in cur.fetchall():\n",
    "    ec_number = row[0]\n",
    "    common_name = row[1]\n",
    "    reaction = row[2]\n",
    "    substrates = row[3]\n",
    "    products = row[4]\n",
    "    comments = row[5]\n",
    "\n",
    "    # 在这里进行进一步处理\n",
    "    print(f'{ec_number}: {common_name}')\n",
    "    print(f'Reaction: {reaction}')\n",
    "    print(f'Substrates: {substrates}')\n",
    "    print(f'Products: {products}')\n",
    "    print(f'Comments: {comments}')\n",
    "    print('---')\n",
    "\n",
    "# 关闭游标和连接\n",
    "cur.close()\n",
    "conn.close()\n"
   ]
  }
 ],
 "metadata": {
  "kernelspec": {
   "display_name": "py11",
   "language": "python",
   "name": "python3"
  },
  "language_info": {
   "codemirror_mode": {
    "name": "ipython",
    "version": 3
   },
   "file_extension": ".py",
   "mimetype": "text/x-python",
   "name": "python",
   "nbconvert_exporter": "python",
   "pygments_lexer": "ipython3",
   "version": "3.11.3"
  },
  "orig_nbformat": 4
 },
 "nbformat": 4,
 "nbformat_minor": 2
}
