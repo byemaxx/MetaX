{
 "cells": [
  {
   "cell_type": "code",
   "execution_count": 17,
   "metadata": {},
   "outputs": [],
   "source": [
    "import sys\n",
    "import os\n",
    "myDir = os.getcwd()\n",
    "parentDir = os.path.abspath(os.path.join(myDir, os.pardir))\n",
    "sys.path.append(parentDir)\n",
    "\n",
    "from pathlib import Path\n",
    "path = Path(parentDir)\n",
    "a=str(path.parent.absolute())\n",
    "\n",
    "sys.path.append(a)"
   ]
  },
  {
   "cell_type": "code",
   "execution_count": 18,
   "metadata": {},
   "outputs": [],
   "source": [
    "from MetaX.utils.taxaFuncAnalyzer import TaxaFuncAnalyzer\n",
    "from MetaX.utils.taxaFuncPloter.basic_plot import BasicPlot\n"
   ]
  },
  {
   "cell_type": "code",
   "execution_count": 22,
   "metadata": {},
   "outputs": [
    {
     "name": "stdout",
     "output_type": "stream",
     "text": [
      "original df shape: (3999, 229)\n",
      "after remove all zero row: (3999, 229)\n"
     ]
    }
   ],
   "source": [
    "df_path = './example_data/SW_TaxaFunc.tsv'\n",
    "meta_path = './example_data/SW_Meta.tsv'\n",
    "sw = TaxaFuncAnalyzer(df_path, meta_path)"
   ]
  },
  {
   "cell_type": "code",
   "execution_count": 24,
   "metadata": {},
   "outputs": [
    {
     "name": "stdout",
     "output_type": "stream",
     "text": [
      "batch_list is not set, Batch effect removal did not perform.\n",
      "transform_method is not set, data transform did not perform.\n",
      "normalize_method is not set, data normalization did not perform.\n",
      "Original data shape: (3999, 229)\n",
      "Starting to set Function table...\n",
      "Function number: 830\n",
      "Starting to set Taxa table...\n",
      "Taxa number: 340\n",
      "Taxa-Function number: 1272\n",
      "group is set to Person\n",
      " {'V2', 'V5', 'V1', 'V4', 'V3'}\n"
     ]
    }
   ],
   "source": [
    "sw.set_func('Description')\n",
    "sw.set_multi_tables(level='s')\n",
    "\n",
    "sw.set_group('Person')"
   ]
  },
  {
   "cell_type": "code",
   "execution_count": 33,
   "metadata": {},
   "outputs": [
    {
     "data": {
      "text/html": [
       "<div>\n",
       "<style scoped>\n",
       "    .dataframe tbody tr th:only-of-type {\n",
       "        vertical-align: middle;\n",
       "    }\n",
       "\n",
       "    .dataframe tbody tr th {\n",
       "        vertical-align: top;\n",
       "    }\n",
       "\n",
       "    .dataframe thead th {\n",
       "        text-align: right;\n",
       "    }\n",
       "</style>\n",
       "<table border=\"1\" class=\"dataframe\">\n",
       "  <thead>\n",
       "    <tr style=\"text-align: right;\">\n",
       "      <th></th>\n",
       "      <th>Sample</th>\n",
       "      <th>Person</th>\n",
       "      <th>Treatment</th>\n",
       "      <th>Sweetener</th>\n",
       "      <th>Sweetener_detail</th>\n",
       "    </tr>\n",
       "  </thead>\n",
       "  <tbody>\n",
       "    <tr>\n",
       "      <th>0</th>\n",
       "      <td>V1_01</td>\n",
       "      <td>V1</td>\n",
       "      <td>PBS</td>\n",
       "      <td>PBS</td>\n",
       "      <td>PBSB</td>\n",
       "    </tr>\n",
       "    <tr>\n",
       "      <th>1</th>\n",
       "      <td>V1_02</td>\n",
       "      <td>V1</td>\n",
       "      <td>Treatment</td>\n",
       "      <td>ISO</td>\n",
       "      <td>ISO</td>\n",
       "    </tr>\n",
       "    <tr>\n",
       "      <th>2</th>\n",
       "      <td>V1_03</td>\n",
       "      <td>V1</td>\n",
       "      <td>Treatment</td>\n",
       "      <td>SOR</td>\n",
       "      <td>SORC</td>\n",
       "    </tr>\n",
       "    <tr>\n",
       "      <th>3</th>\n",
       "      <td>V1_04</td>\n",
       "      <td>V1</td>\n",
       "      <td>Treatment</td>\n",
       "      <td>ERY</td>\n",
       "      <td>ERY</td>\n",
       "    </tr>\n",
       "    <tr>\n",
       "      <th>4</th>\n",
       "      <td>V1_05</td>\n",
       "      <td>V1</td>\n",
       "      <td>Treatment</td>\n",
       "      <td>HSH</td>\n",
       "      <td>HSH</td>\n",
       "    </tr>\n",
       "    <tr>\n",
       "      <th>...</th>\n",
       "      <td>...</td>\n",
       "      <td>...</td>\n",
       "      <td>...</td>\n",
       "      <td>...</td>\n",
       "      <td>...</td>\n",
       "    </tr>\n",
       "    <tr>\n",
       "      <th>185</th>\n",
       "      <td>V5_34</td>\n",
       "      <td>V5</td>\n",
       "      <td>Treatment</td>\n",
       "      <td>ACE2</td>\n",
       "      <td>ACE2</td>\n",
       "    </tr>\n",
       "    <tr>\n",
       "      <th>186</th>\n",
       "      <td>V5_35</td>\n",
       "      <td>V5</td>\n",
       "      <td>Treatment</td>\n",
       "      <td>ASP</td>\n",
       "      <td>ASP</td>\n",
       "    </tr>\n",
       "    <tr>\n",
       "      <th>187</th>\n",
       "      <td>V5_36</td>\n",
       "      <td>V5</td>\n",
       "      <td>Treatment</td>\n",
       "      <td>NEO006</td>\n",
       "      <td>NEO006</td>\n",
       "    </tr>\n",
       "    <tr>\n",
       "      <th>188</th>\n",
       "      <td>V5_37</td>\n",
       "      <td>V5</td>\n",
       "      <td>PBS</td>\n",
       "      <td>PBS</td>\n",
       "      <td>PBSC</td>\n",
       "    </tr>\n",
       "    <tr>\n",
       "      <th>189</th>\n",
       "      <td>V5_38</td>\n",
       "      <td>V5</td>\n",
       "      <td>Treatment</td>\n",
       "      <td>SOR</td>\n",
       "      <td>SORB</td>\n",
       "    </tr>\n",
       "  </tbody>\n",
       "</table>\n",
       "<p>190 rows × 5 columns</p>\n",
       "</div>"
      ],
      "text/plain": [
       "    Sample Person  Treatment Sweetener Sweetener_detail\n",
       "0    V1_01     V1        PBS       PBS             PBSB\n",
       "1    V1_02     V1  Treatment       ISO              ISO\n",
       "2    V1_03     V1  Treatment       SOR             SORC\n",
       "3    V1_04     V1  Treatment       ERY              ERY\n",
       "4    V1_05     V1  Treatment       HSH              HSH\n",
       "..     ...    ...        ...       ...              ...\n",
       "185  V5_34     V5  Treatment      ACE2             ACE2\n",
       "186  V5_35     V5  Treatment       ASP              ASP\n",
       "187  V5_36     V5  Treatment    NEO006           NEO006\n",
       "188  V5_37     V5        PBS       PBS             PBSC\n",
       "189  V5_38     V5  Treatment       SOR             SORB\n",
       "\n",
       "[190 rows x 5 columns]"
      ]
     },
     "execution_count": 33,
     "metadata": {},
     "output_type": "execute_result"
    }
   ],
   "source": [
    "sw.meta_df"
   ]
  }
 ],
 "metadata": {
  "kernelspec": {
   "display_name": "tfe",
   "language": "python",
   "name": "python3"
  },
  "language_info": {
   "codemirror_mode": {
    "name": "ipython",
    "version": 3
   },
   "file_extension": ".py",
   "mimetype": "text/x-python",
   "name": "python",
   "nbconvert_exporter": "python",
   "pygments_lexer": "ipython3",
   "version": "3.11.3"
  },
  "orig_nbformat": 4
 },
 "nbformat": 4,
 "nbformat_minor": 2
}
