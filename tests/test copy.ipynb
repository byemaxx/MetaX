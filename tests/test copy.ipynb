{
 "cells": [
  {
   "cell_type": "code",
   "execution_count": 1,
   "metadata": {},
   "outputs": [],
   "source": [
    "import sys\n",
    "import os\n",
    "myDir = os.getcwd()\n",
    "parentDir = os.path.abspath(os.path.join(myDir, os.pardir))\n",
    "sys.path.append(parentDir)\n",
    "\n",
    "from pathlib import Path\n",
    "path = Path(parentDir)\n",
    "a=str(path.parent.absolute())\n",
    "\n",
    "sys.path.append(a)"
   ]
  },
  {
   "cell_type": "code",
   "execution_count": 2,
   "metadata": {},
   "outputs": [],
   "source": [
    "from MetaX.utils.taxaFuncAnalyzer import TaxaFuncAnalyzer\n",
    "# from MetaX.utils.taxaFuncPloter.basic_plot import BasicPlot\n"
   ]
  },
  {
   "cell_type": "code",
   "execution_count": 3,
   "metadata": {},
   "outputs": [],
   "source": [
    "df_path = 'C:/Users/ZAL/Desktop/AL_300_TaxaFunc.tsv'\n",
    "meta_path = 'C:/Users/ZAL/Desktop/AL_300_meta.tsv'\n",
    "sw = TaxaFuncAnalyzer(df_path, meta_path)"
   ]
  },
  {
   "cell_type": "code",
   "execution_count": 4,
   "metadata": {},
   "outputs": [
    {
     "name": "stdout",
     "output_type": "stream",
     "text": [
      "original df shape: (131669, 53)\n",
      "after remove all zero row: (121467, 53)\n"
     ]
    }
   ],
   "source": [
    "sw._remove_all_zero_row()"
   ]
  },
  {
   "cell_type": "code",
   "execution_count": 4,
   "metadata": {},
   "outputs": [
    {
     "name": "stdout",
     "output_type": "stream",
     "text": [
      "batch_list is not set, Batch effect removal did not perform.\n",
      "transform_method is not set, data transform did not perform.\n",
      "normalize_method is not set, data normalization did not perform.\n",
      "Original data shape: (3999, 229)\n",
      "Starting to set Function table...\n",
      "Function number: 830\n",
      "Starting to set Taxa table...\n",
      "Taxa number: 340\n",
      "Taxa-Function number: 1272\n",
      "group is set to Person\n",
      " {'V5', 'V2', 'V1', 'V4', 'V3'}\n"
     ]
    }
   ],
   "source": [
    "sw.set_func('Description')\n",
    "sw.set_multi_tables(level='s')\n",
    "\n",
    "sw.set_group('Person')"
   ]
  }
 ],
 "metadata": {
  "kernelspec": {
   "display_name": "tfe",
   "language": "python",
   "name": "python3"
  },
  "language_info": {
   "codemirror_mode": {
    "name": "ipython",
    "version": 3
   },
   "file_extension": ".py",
   "mimetype": "text/x-python",
   "name": "python",
   "nbconvert_exporter": "python",
   "pygments_lexer": "ipython3",
   "version": "3.11.3"
  },
  "orig_nbformat": 4
 },
 "nbformat": 4,
 "nbformat_minor": 2
}
